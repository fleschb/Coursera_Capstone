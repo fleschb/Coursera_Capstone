{
 "cells": [
  {
   "cell_type": "markdown",
   "metadata": {},
   "source": [
    "<h1>\n",
    "Choosing a Location for a Medical Center"
   ]
  },
  {
   "cell_type": "markdown",
   "metadata": {},
   "source": [
    "<h4>\n",
    "Introduction"
   ]
  },
  {
   "cell_type": "markdown",
   "metadata": {},
   "source": [
    "It is a pandemic and the state of Colorado may not have enough hospital beds <a href=\"https://kdvr.com/news/coronavirus/will-colorado-have-enough-hospital-beds-to-accommodate-coronavirus-patients/\">(Will Colorado have enough hospital beds to accommodate coronavirus patients?)</a>.  The government of the state of Colorado has decided to add another medical center to their state, to ensure that all of their citizens will be served.  They want to place this medical center optimally - in a location that will best serve the state.  However, they only have enough funding to build one new medical center.  So the question is: where is the best location to place a new medical center during the pandemic?\n",
    "\n",
    "<p>\n",
    "This pandemic is hitting people of color particularly hard, so they want to prioritize communities with a higher than average percent of folks of color <a href=\"https://www.hopkinsmedicine.org/health/conditions-and-diseases/coronavirus/covid19-racial-disparities\">(Coronavirus in African Americans and Other People of Color)</a>.  Of those locations, they also want to choose a community with less access to medical centers than other communities.  "
   ]
  },
  {
   "cell_type": "markdown",
   "metadata": {},
   "source": [
    "<h4>\n",
    "Data"
   ]
  },
  {
   "cell_type": "markdown",
   "metadata": {},
   "source": [
    "The first step in tackling this problem is to determine an appropriate definition of 'community'.  For this,  the zip codes with associated latitudes and longitutes are needed, which is found here: <a href=\"https://www.unitedstateszipcodes.org/zip-code-database/\">(United States Zip Codes?)</a>.  Next the demographics, specifically race data, is needed for each zip code, which is found here  <a href=\" https://data.colorado.gov/Demographics/Census-Zip-Codes-in-Colorado-2015/jd2b-7gyb\">(Colorado Demographics by zip code)</a>.  Lastly, the number of medical centers and their location will be needed.  For that, we will use the <a href=\"https://foursquare.com/\">(Foursquare API)</a>.  We may also use this API to investigate the definition of community.  "
   ]
  },
  {
   "cell_type": "code",
   "execution_count": null,
   "metadata": {},
   "outputs": [],
   "source": []
  }
 ],
 "metadata": {
  "kernelspec": {
   "display_name": "Python",
   "language": "python",
   "name": "conda-env-python-py"
  },
  "language_info": {
   "codemirror_mode": {
    "name": "ipython",
    "version": 3
   },
   "file_extension": ".py",
   "mimetype": "text/x-python",
   "name": "python",
   "nbconvert_exporter": "python",
   "pygments_lexer": "ipython3",
   "version": "3.6.10"
  }
 },
 "nbformat": 4,
 "nbformat_minor": 4
}
